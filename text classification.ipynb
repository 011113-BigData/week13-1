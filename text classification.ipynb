{
 "cells": [
  {
   "cell_type": "markdown",
   "id": "1994f47b-b829-4973-aada-77f644c88bfc",
   "metadata": {},
   "source": [
    "# Sentiment Analysis/Text classification\n",
    "\n",
    "Dataset source: https://www.kaggle.com/datasets/crowdflower/twitter-airline-sentiment"
   ]
  },
  {
   "cell_type": "markdown",
   "id": "72917b91-f23d-4b3c-9109-5cd1f46ebd67",
   "metadata": {},
   "source": [
    "## Load the libraries\n",
    "\n",
    "Libraries used are:\n",
    "- pandas\n",
    "- sklearn (to create our prediction model)\n",
    "- Flask (as back-end of our web app)\n",
    "- waitress (to run the Flask web app)\n",
    "- pymongo (to communicate with mongodb database)\n",
    "- matplotlib (to visualize/plot the data)\n",
    "- wordcloud (to visualize text data)\n",
    "- nltk (to deal with text, natural language toolkit :https://www.nltk.org/install.html)\n",
    "\n",
    "We also need to download the English data from https://www.nltk.org/data.html\n",
    "\n",
    "```\n",
    "python -m nltk.downloader popular\n",
    "```\n",
    "\n",
    "*Notes:*\n",
    "- The MongoDB will be used to store the dataset as well as the future prediction results.\n",
    "- Make sure you have mongodb installed in your VM if you are working with your own VM instance or use the MongoDB provided in this class.\n",
    "- A MongoDB instance address will be shared in the class.\n",
    "\n",
    "If you've installed them, you can directly install all of the libraries by running the below command:"
   ]
  },
  {
   "cell_type": "code",
   "execution_count": null,
   "id": "79da20a0-cc11-47c7-8570-fc8ab821dfb8",
   "metadata": {},
   "outputs": [],
   "source": [
    "# download the NLTK data \n",
    "# 'popular' can be change to specific individual data or 'all' to download all the NLTK data\n",
    "!python -m nltk.downloader popular"
   ]
  },
  {
   "cell_type": "code",
   "execution_count": null,
   "id": "420bf2b7-022c-4bdb-b1c3-84c82e199975",
   "metadata": {},
   "outputs": [],
   "source": [
    "!pip install pandas sklearn Flask waitress pymongo matplotlib nltk wordcloud"
   ]
  },
  {
   "cell_type": "code",
   "execution_count": null,
   "id": "de9957eb-2f53-4101-82ba-cda893b979c4",
   "metadata": {},
   "outputs": [],
   "source": [
    "# import the modules/libraries\n",
    "import pandas as pd\n",
    "import matplotlib.pyplot as plt\n",
    "from pymongo import MongoClient\n",
    "# NLTK\n",
    "from nltk.tokenize import word_tokenize\n",
    "from nltk.corpus import stopwords\n",
    "#stemming\n",
    "from nltk.stem import PorterStemmer\n",
    "#lemmatization\n",
    "from nltk.stem import WordNetLemmatizer \n",
    "# Scikit-learn\n",
    "from sklearn.model_selection import train_test_split\n",
    "from sklearn import metrics\n",
    "from sklearn.neural_network import MLPClassifier\n",
    "from sklearn.metrics import plot_confusion_matrix\n",
    "from sklearn import preprocessing\n",
    "\n",
    "# suppress all warnings (ignore unnecessary warnings msgs)\n",
    "import warnings\n",
    "warnings.filterwarnings(\"ignore\")"
   ]
  },
  {
   "cell_type": "markdown",
   "id": "d07d9050-1419-40fd-89b1-801d2d0f4e3f",
   "metadata": {},
   "source": [
    "## Load the dataset"
   ]
  },
  {
   "cell_type": "code",
   "execution_count": null,
   "id": "49cef41c-2c4f-4a48-bc5d-32fbfdffb5f7",
   "metadata": {},
   "outputs": [],
   "source": [
    "df = pd.read_csv('Tweets.csv') #read the \"Tweets.csv\" file and assign it to df variable"
   ]
  },
  {
   "cell_type": "code",
   "execution_count": null,
   "id": "8e14f612-903c-4fda-8234-714052035f12",
   "metadata": {},
   "outputs": [],
   "source": [
    "df.head() # show the first 5 data"
   ]
  },
  {
   "cell_type": "markdown",
   "id": "36727cb9-2f6d-4138-8ffc-3355b119329f",
   "metadata": {},
   "source": [
    "**For this case, we will only use 200 data to speed up the process**"
   ]
  },
  {
   "cell_type": "code",
   "execution_count": null,
   "id": "87bc4147-a80a-47b0-b4f3-0789dcaa9c4d",
   "metadata": {},
   "outputs": [],
   "source": [
    "df = df[:200]\n",
    "df.shape"
   ]
  },
  {
   "cell_type": "code",
   "execution_count": null,
   "id": "e5839419-8577-4302-bd8e-56168d3a9022",
   "metadata": {},
   "outputs": [],
   "source": [
    "# here we just need the data from column \"airline_sentiment\" as the output \n",
    "# and \"text\" as the input\n",
    "# so we will just take those only\n",
    "\n",
    "df_input = df['text'] # text data only\n",
    "df_output = df['airline_sentiment'] #class or label output"
   ]
  },
  {
   "cell_type": "code",
   "execution_count": null,
   "id": "c7b28959-2d93-4d51-a3ff-cc9b04ca704f",
   "metadata": {},
   "outputs": [],
   "source": [
    "df_input.head() # show the first 5 data"
   ]
  },
  {
   "cell_type": "code",
   "execution_count": null,
   "id": "99c872a3-f069-4430-b88c-21cadfbf92f9",
   "metadata": {},
   "outputs": [],
   "source": [
    "df_output.head() # show the first 5 data"
   ]
  },
  {
   "cell_type": "markdown",
   "id": "e49368d1-5314-42c9-9e4c-140413632d01",
   "metadata": {},
   "source": [
    "## Data pre-processing\n",
    "\n",
    "Including removing stop words, tokenize, stemming, label encoder, etc"
   ]
  },
  {
   "cell_type": "code",
   "execution_count": null,
   "id": "2844176a-09d9-4bb7-82d6-56acb2db4792",
   "metadata": {},
   "outputs": [],
   "source": [
    "# df_input is the text in the form of dataframe\n",
    "# df_ouput is the airline_sentiment label (target output/class)\n",
    "def text_preprocessing_stem(df_input, df_output):\n",
    "    # initiate empty list for storing the preprocessed text data\n",
    "    processed_data = list()\n",
    "    # initiate stemmer, https://www.nltk.org/howto/stem.html\n",
    "    stemmer = PorterStemmer()\n",
    "    lemma = WordNetLemmatizer()\n",
    "    # loop for each text in the dataset, row by row (one by one)\n",
    "    for row in df_input.values.tolist():\n",
    "        # tokenize the text\n",
    "        tokens = word_tokenize(row)\n",
    "        # convert the tokens into lowercase\n",
    "        tokens = [w.lower() for w in tokens]\n",
    "        # check alphabhet\n",
    "        tokens = [word for word in tokens if word.isalpha()]\n",
    "        # remove the stopword\n",
    "        tokens = [word for word in tokens if not word in stopwords.words()]\n",
    "        # apply stemming\n",
    "        #tokens = [stemmer.stem(word) for word in tokens]\n",
    "        # or apply Lemmatization\n",
    "        tokens = [lemma.lemmatize(word) for word in tokens]\n",
    "        #print(tokens)\n",
    "        # append the preprocessed text into processed_data (list)\n",
    "        processed_data.append(tokens)\n",
    "    \n",
    "    # check the content of processed_data\n",
    "    print(processed_data[:3]) # show 3 data\n",
    "    \n",
    "    # initiate label_Encoder\n",
    "    label_encoder = preprocessing.LabelEncoder()\n",
    "    # fit the encoder to the df_output\n",
    "    label_encoder.fit(df_output)\n",
    "    # transform the df_output using LabelEncoder\n",
    "    # https://scikit-learn.org/stable/modules/generated/sklearn.preprocessing.LabelEncoder.html\n",
    "    Y_output = label_encoder.transform(df_output)\n",
    "    \n",
    "    # create new document\n",
    "    new_doc = list()\n",
    "    for text in processed_data:\n",
    "        row = ' '.join(text)\n",
    "        new_doc.append(row)\n",
    "        \n",
    "    # return the new_doc and Y_output\n",
    "    return new_doc, Y_output\n",
    "    "
   ]
  },
  {
   "cell_type": "code",
   "execution_count": null,
   "id": "ae4936a9-8441-4f58-ae35-c146aa096b86",
   "metadata": {},
   "outputs": [],
   "source": [
    "# call text_preprocessing function\n",
    "new_doc, Y_output = text_preprocessing(df_input, df_output)"
   ]
  },
  {
   "cell_type": "code",
   "execution_count": null,
   "id": "b7712231-1e96-47de-9995-19b65796ce06",
   "metadata": {},
   "outputs": [],
   "source": [
    "new_doc[:3] # show first 3 data"
   ]
  },
  {
   "cell_type": "code",
   "execution_count": null,
   "id": "f04d542e-8fe5-4997-8d53-ff41a4e3f1f1",
   "metadata": {},
   "outputs": [],
   "source": [
    "Y_output"
   ]
  },
  {
   "cell_type": "markdown",
   "id": "179e7f1c-f332-449b-81d2-d4932057f8bd",
   "metadata": {},
   "source": [
    "## Word cloud (we can visualize the frequent word in our dataset using word cloud)\n",
    "\n",
    "- A word cloud is a collection, or cluster, of words depicted in different sizes\n",
    "- The bigger and bolder the word appears, the more often it’s mentioned within a given text and the more important it is.\n",
    "- https://amueller.github.io/word_cloud/index.html\n",
    "- https://pypi.org/project/wordcloud/\n"
   ]
  },
  {
   "cell_type": "code",
   "execution_count": null,
   "id": "43aa4e4e-103a-45b1-9d54-5febd44f436f",
   "metadata": {},
   "outputs": [],
   "source": [
    "from wordcloud import WordCloud\n",
    "\n",
    "alltext = ' '.join(new_doc)\n",
    "wordcloud = WordCloud(width=800, height=800, background_color=\"white\")\n",
    "wordcloud = wordcloud.generate_from_text(alltext)\n",
    "\n",
    "# display the generated image\n",
    "plt.figure(figsize=(8,9), dpi=100)\n",
    "plt.imshow(wordcloud, interpolation=\"bilinear\")\n",
    "#plt.axis(\"off\")\n",
    "plt.show()"
   ]
  },
  {
   "cell_type": "markdown",
   "id": "56e8d60b-3825-46cd-be65-0307c3c480b7",
   "metadata": {},
   "source": [
    "## Vectorize the data with BOW (Bag of Words)\n",
    "\n",
    "https://scikit-learn.org/stable/modules/generated/sklearn.feature_extraction.text.CountVectorizer.html"
   ]
  },
  {
   "cell_type": "code",
   "execution_count": null,
   "id": "284870c2-660d-4107-8cfb-b6c37d0b72b9",
   "metadata": {},
   "outputs": [],
   "source": [
    "from sklearn.feature_extraction.text import CountVectorizer\n",
    "\n",
    "def BOW_vector(new_doc):\n",
    "    vectorizer_bow = CountVectorizer(max_features=1000)\n",
    "    X_input = vectorizer_bow.fit_transform(new_doc)\n",
    "    #print(vectorizer_bow.vocabulary_)\n",
    "    return X_input, vectorizer_bow.vocabulary_"
   ]
  },
  {
   "cell_type": "code",
   "execution_count": null,
   "id": "c703f1fc-c6a5-4633-8224-067344bfd4ff",
   "metadata": {},
   "outputs": [],
   "source": [
    "X_input, vocabulary = BOW_vector(new_doc)\n",
    "X_input.toarray() # the vectorized input data"
   ]
  },
  {
   "cell_type": "markdown",
   "id": "76c73321-b27c-4365-88ff-d8d3e06ca1e5",
   "metadata": {},
   "source": [
    "## Apply the Machine Learning Model"
   ]
  },
  {
   "cell_type": "code",
   "execution_count": null,
   "id": "b1695557-04cc-476a-a785-f6a3ce0c4637",
   "metadata": {},
   "outputs": [],
   "source": [
    "def apply_MLP(X_input, Y_output):\n",
    "    \n",
    "    #Split the data into train and test for each X and y; \n",
    "    # test_size=0.3 means 30% for test data and the rest for training\n",
    "    X_train, X_test, y_train, y_test = train_test_split(X_input, Y_output, random_state=0, test_size=0.3)\n",
    "    \n",
    "    # apply MLP algorithm\n",
    "    # initiate the classifier/model\n",
    "    model = MLPClassifier(random_state=0) \n",
    "\n",
    "    # training the model/classifier with training data (X_train and y_train)\n",
    "    model = model.fit(X_train, y_train)\n",
    "    \n",
    "    return model"
   ]
  },
  {
   "cell_type": "code",
   "execution_count": null,
   "id": "f3211ddd-97c3-4345-9a86-5e6c231d01cc",
   "metadata": {},
   "outputs": [],
   "source": [
    "# Evaluate the model performance\n",
    "def evaluate_model(model):\n",
    "    # predict the X_test\n",
    "    y_pred = model.predict(X_test) \n",
    "    #print(y_pred)\n",
    "    \n",
    "    # confusion matrix\n",
    "    confusion_matrix = metrics.confusion_matrix(y_test, y_pred)\n",
    "    # calculate accuracy\n",
    "    accuracy = metrics.accuracy_score(y_test, y_pred)\n",
    "    # calculate precision, apply average since it's multiclass\n",
    "    precision = metrics.precision_score(y_test, y_pred, average='macro')\n",
    "    #calculate recall, apply average since it's multiclass\n",
    "    recall = metrics.recall_score(y_test, y_pred, average='macro') \n",
    "\n",
    "    # print / show the output\n",
    "    print(\"Confusion Matrix:\", confusion_matrix)\n",
    "    print(\"Accuracy:\", accuracy)\n",
    "    print(\"Precision:\", precision)\n",
    "    print(\"Recall:\", recall)\n",
    "    plot_confusion_matrix(model, X_test, y_test, cmap=plt.cm.Blues)\n",
    "    plt.show()"
   ]
  },
  {
   "cell_type": "markdown",
   "id": "6bdd377f-2976-489f-8a9f-704983dc9b01",
   "metadata": {},
   "source": [
    "### Evaluate the performance of BOW and MLP"
   ]
  },
  {
   "cell_type": "code",
   "execution_count": null,
   "id": "be2aa143-fdb9-4d1c-9fb6-3e913512a028",
   "metadata": {},
   "outputs": [],
   "source": [
    "X_input, vocabulary = BOW_vector(new_doc)\n",
    "model = apply_MLP(X_input, Y_output)\n",
    "evaluate_model(model)"
   ]
  },
  {
   "cell_type": "code",
   "execution_count": null,
   "id": "b38273a0-cd50-41ed-805d-33b56db87a23",
   "metadata": {},
   "outputs": [],
   "source": [
    "#vocabulary"
   ]
  },
  {
   "cell_type": "markdown",
   "id": "d67f6a8c-1387-4f8e-a9ae-2778c771493a",
   "metadata": {},
   "source": [
    "## Vectorize the data with TF-IDF\n",
    "\n",
    "https://scikit-learn.org/stable/modules/generated/sklearn.feature_extraction.text.TfidfVectorizer.html"
   ]
  },
  {
   "cell_type": "code",
   "execution_count": null,
   "id": "9c1b1afa-fa2c-4208-b7d7-6f9a1890b012",
   "metadata": {},
   "outputs": [],
   "source": [
    "from sklearn.feature_extraction.text import TfidfVectorizer\n",
    "\n",
    "def TFIDF_vector(new_doc):\n",
    "    vectorizer_tfidf = TfidfVectorizer(max_features=1000)\n",
    "    X_input = vectorizer_tfidf.fit_transform(new_doc)\n",
    "    #print(vectorizer_tfidf.vocabulary_)\n",
    "    return X_input, vectorizer_tfidf.vocabulary_"
   ]
  },
  {
   "cell_type": "markdown",
   "id": "220c808d-c260-431d-9d49-f8b839908400",
   "metadata": {},
   "source": [
    "### Evaluate the performance of TF-IDF and MLP"
   ]
  },
  {
   "cell_type": "code",
   "execution_count": null,
   "id": "67d84dd7-8df3-45db-8011-e3981bdc53a6",
   "metadata": {},
   "outputs": [],
   "source": [
    "X_input, vocabulary = TFIDF_vector(new_doc)\n",
    "model = apply_MLP(X_input, Y_output)\n",
    "evaluate_model(model)"
   ]
  },
  {
   "cell_type": "markdown",
   "id": "68254fcf-4e68-4c0a-b3c5-a078cae355a1",
   "metadata": {},
   "source": [
    "## Export the vocabulary and prediction model into FILENAME.model file"
   ]
  },
  {
   "cell_type": "code",
   "execution_count": null,
   "id": "f5efc75d-6d6d-43cb-bd0d-b1588a9b3cf1",
   "metadata": {},
   "outputs": [],
   "source": [
    "# save the model using joblib\n",
    "import joblib\n",
    "\n",
    "# export the vocabulary\n",
    "vocab_filename = \"tfidf-vocab.model\"\n",
    "joblib.dump(vocabulary, vocab_filename)\n",
    "\n",
    "# export the model\n",
    "model_filename = \"MLP-tfidf.model\"\n",
    "joblib.dump(model, model_filename)"
   ]
  },
  {
   "cell_type": "markdown",
   "id": "f6e07e58-b795-4caa-8638-253210e69432",
   "metadata": {},
   "source": [
    "## Import the prediction model and use it to predict with new data"
   ]
  },
  {
   "cell_type": "code",
   "execution_count": null,
   "id": "0e01720d-f126-4216-911f-c6363097d5bf",
   "metadata": {},
   "outputs": [],
   "source": [
    "import joblib\n",
    "import numpy as np\n",
    "from sklearn.feature_extraction.text import TfidfVectorizer\n",
    "from sklearn.feature_extraction.text import TfidfTransformer\n",
    "\n",
    "# initiate transformer\n",
    "tfidf_transformer = TfidfTransformer()\n",
    "\n",
    "# import the vocabulary\n",
    "vocab_filename = \"tfidf-vocab.model\"\n",
    "loaded_vocab = joblib.load(vocab_filename)\n",
    "\n",
    "# import the model\n",
    "model_filename = \"MLP-tfidf.model\"\n",
    "loaded_model = joblib.load(model_filename)\n",
    "\n",
    "# new unlabelled sentence\n",
    "new_sentence = \"The flight was good and I love the food served!\" # positive\n",
    "#new_sentence = \"The flight was horrible and the food was really bad!\" # negative\n",
    "#new_sentence = \"The price is affordable.\" # normal\n",
    "\n",
    "# load the vector\n",
    "loaded_vector = TfidfVectorizer(vocabulary=loaded_vocab)\n",
    "# convert / preprocess the new_sentence into tfidf vector\n",
    "input_vector = loaded_vector.fit_transform(np.array([new_sentence]))\n",
    "tfidf_input = tfidf_transformer.fit_transform(input_vector)\n",
    "\n",
    "# predict the label\n",
    "new_sentence_pred = loaded_model.predict(tfidf_input)\n",
    "\n",
    "if new_sentence_pred[0] == 0:\n",
    "    output = \"Negative\"\n",
    "elif new_sentence_pred[0] == 1:\n",
    "    output = \"Neutral\"\n",
    "elif new_sentence_pred[0] == 2:\n",
    "    output = \"Positive\"\n",
    "else:\n",
    "    output = \"Undefined\"\n",
    "\n",
    "print(new_sentence_pred)\n",
    "print(\"Predicted as\", output)"
   ]
  },
  {
   "cell_type": "markdown",
   "id": "fef63256-d81a-43ff-ab56-4a328d57ce4d",
   "metadata": {},
   "source": [
    "## Store the new_sentence and it's prediction output into MongoDB"
   ]
  },
  {
   "cell_type": "code",
   "execution_count": null,
   "id": "6719b7d2-de98-41d4-95a7-d7288b2792e0",
   "metadata": {},
   "outputs": [],
   "source": [
    "import datetime\n",
    "\n",
    "# 127.0.0.1 is the local mongodb address installed\n",
    "client = MongoClient('mongodb://127.0.0.1:27017/')\n",
    "\n",
    "# YOU SHOULD change '<<yourUSERNAME>>' with userSTUDENTID (for example: user22222)\n",
    "db = client['<<yourUSERNAME>>'] #<<yourUSERNAME>>\n",
    "\n",
    "#text_prediction is the collection (table) name in our mongodb database\n",
    "text_prediction = db['text_prediction']\n",
    "\n",
    "# new record data, formatted in json\n",
    "new_record = { \n",
    "    'sentence': new_sentence, \n",
    "    'output': output, \n",
    "    'created_at': datetime.datetime.now()\n",
    "}\n",
    "\n",
    "# Insert one record\n",
    "text_prediction.insert_one(new_record)"
   ]
  },
  {
   "cell_type": "markdown",
   "id": "88263ed5-988c-4154-a3ea-907e8b7ec990",
   "metadata": {},
   "source": [
    "## Retrieve text_predictions data from MongoDB"
   ]
  },
  {
   "cell_type": "code",
   "execution_count": null,
   "id": "0859168e-1909-48c4-815f-44fbef1c8683",
   "metadata": {},
   "outputs": [],
   "source": [
    "# get username\n",
    "import getpass\n",
    "username = getpass.getuser()\n",
    "\n",
    "username # username will be used for your MongoDB Database Name"
   ]
  },
  {
   "cell_type": "code",
   "execution_count": null,
   "id": "8ac1bd25-03b9-447b-bb9e-2e4e20bc2dbc",
   "metadata": {},
   "outputs": [],
   "source": [
    "# 127.0.0.1 is the local mongodb address installed\n",
    "client = MongoClient('mongodb://127.0.0.1:27017/')\n",
    "\n",
    "# YOU SHOULD change '<<yourUSERNAME>>' with userSTUDENTID (for example: user22222)\n",
    "db = client['<<yourUSERNAME>>'] # <<yourUSERNAME>>\n",
    "\n",
    "#text_prediction is the collection (table) name in our mongodb database\n",
    "text_prediction = db['text_prediction']\n",
    "\n",
    "# retrieve last 5 data (limit = 5)\n",
    "# sort by _id, -1 -> desc; 1 -> asc\n",
    "last_predictions_results = text_prediction.find().sort(\"_id\", -1).limit(5)\n",
    "\n",
    "#print the result:\n",
    "for data in last_predictions_results:\n",
    "    created_at = data['created_at']\n",
    "    date_time = created_at.strftime(\"%d/%m/%Y, %H:%M:%S\")\n",
    "    sentence = data['sentence']\n",
    "    output = \"Predicted as \"+data['output']\n",
    "    print(date_time, '- '+sentence, \"(\"+output+\")\")"
   ]
  },
  {
   "cell_type": "markdown",
   "id": "ff2ec1ae-08bd-4ab5-af7f-b27b30ba4c3b",
   "metadata": {},
   "source": [
    "## Now let's create a web app so that it can be useful :)\n",
    "\n",
    "Check ```textwebapp.py``` file inside ```webapp/``` directory/folder and change the port number.\n",
    "\n",
    "First you need to copy all the models file into ```webapp/``` directory/folder, by executing the following command:"
   ]
  },
  {
   "cell_type": "code",
   "execution_count": null,
   "id": "b0aae7e6-798b-4938-8b9d-8f88e43e09fb",
   "metadata": {},
   "outputs": [],
   "source": [
    "!cp $vocab_filename $model_filename webapp/"
   ]
  },
  {
   "cell_type": "markdown",
   "id": "dc8e1d4b-d059-41ad-aeac-f95804ca01e9",
   "metadata": {},
   "source": [
    "After that you can start/execute the ```textwebapp.py``` via here (jupyter notebook):"
   ]
  },
  {
   "cell_type": "code",
   "execution_count": null,
   "id": "762504f3-6d5b-4306-9f78-625f7dc8efb0",
   "metadata": {},
   "outputs": [],
   "source": [
    "# check the current working directory\n",
    "!pwd"
   ]
  },
  {
   "cell_type": "markdown",
   "id": "7f1eddbe-46bb-4fa9-bd52-6064cb926e21",
   "metadata": {},
   "source": [
    "Move to ```webapp``` directory and execute the ```textwebapp.py``` file"
   ]
  },
  {
   "cell_type": "code",
   "execution_count": null,
   "id": "55ba7ecb-2d2e-4d36-bb50-5306fe837371",
   "metadata": {},
   "outputs": [],
   "source": [
    "!cd webapp && python textwebapp.py"
   ]
  },
  {
   "attachments": {
    "a503c0ea-e17e-4313-9cbf-af4b782f33c3.png": {
     "image/png": "[encoded data removed]"
    }
   },
   "cell_type": "markdown",
   "id": "583c3b30-9f52-44e2-b9bf-4f907002c733",
   "metadata": {},
   "source": [
    "or via terminal (make sure you're in the ```webapp``` directory) by typing: ``` python textwebapp.py ```\n",
    "\n",
    "![image.png](attachment:a503c0ea-e17e-4313-9cbf-af4b782f33c3.png)"
   ]
  },
  {
   "cell_type": "code",
   "execution_count": null,
   "id": "455a89f0-ab02-4b46-9bf6-051872853077",
   "metadata": {},
   "outputs": [],
   "source": []
  }
 ],
 "metadata": {
  "kernelspec": {
   "display_name": "Python 3 (ipykernel)",
   "language": "python",
   "name": "python3"
  },
  "language_info": {
   "codemirror_mode": {
    "name": "ipython",
    "version": 3
   },
   "file_extension": ".py",
   "mimetype": "text/x-python",
   "name": "python",
   "nbconvert_exporter": "python",
   "pygments_lexer": "ipython3",
   "version": "3.8.10"
  }
 },
 "nbformat": 4,
 "nbformat_minor": 5
}
